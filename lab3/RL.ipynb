{
  "nbformat": 4,
  "nbformat_minor": 0,
  "metadata": {
    "colab": {
      "name": "RL.ipynb",
      "provenance": [],
      "collapsed_sections": [
        "jrI6q7RmWQam"
      ]
    },
    "kernelspec": {
      "name": "python3",
      "display_name": "Python 3"
    },
    "accelerator": "GPU"
  },
  "cells": [
    {
      "cell_type": "markdown",
      "metadata": {
        "id": "jrI6q7RmWQam",
        "colab_type": "text"
      },
      "source": [
        "<table align=\"center\">\n",
        "  <td align=\"center\"><a target=\"_blank\" href=\"http://introtodeeplearning.com\">\n",
        "        <img src=\"http://introtodeeplearning.com/images/colab/mit.png\" style=\"padding-bottom:5px;\" />\n",
        "      Visit MIT Deep Learning</a></td>\n",
        "  <td align=\"center\"><a target=\"_blank\" href=\"https://colab.research.google.com/github/aamini/introtodeeplearning/blob/master/lab3/RL.ipynb\">\n",
        "        <img src=\"http://introtodeeplearning.com/images/colab/colab.png?v2.0\"  style=\"padding-bottom:5px;\" />Run in Google Colab</a></td>\n",
        "  <td align=\"center\"><a target=\"_blank\" href=\"https://github.com/aamini/introtodeeplearning/blob/master/lab3/RL.ipynb\">\n",
        "        <img src=\"http://introtodeeplearning.com/images/colab/github.png\"  height=\"70px\" style=\"padding-bottom:5px;\"  />View Source on GitHub</a></td>\n",
        "</table>\n",
        "\n",
        "# Copyright Information"
      ]
    },
    {
      "cell_type": "code",
      "metadata": {
        "id": "wkd375upWYok",
        "colab_type": "code",
        "colab": {}
      },
      "source": [
        "# Copyright 2020 MIT 6.S191 Introduction to Deep Learning. All Rights Reserved.\n",
        "# \n",
        "# Licensed under the MIT License. You may not use this file except in compliance\n",
        "# with the License. Use and/or modification of this code outside of 6.S191 must\n",
        "# reference:\n",
        "#\n",
        "# © MIT 6.S191: Introduction to Deep Learning\n",
        "# http://introtodeeplearning.com\n",
        "#"
      ],
      "execution_count": 0,
      "outputs": []
    },
    {
      "cell_type": "markdown",
      "metadata": {
        "id": "WoXYKhfZMHiw",
        "colab_type": "text"
      },
      "source": [
        "# Laboratory 3: Reinforcement Learning\n",
        "\n",
        "Reinforcement learning (RL) is a subset of machine learning which poses learning problems as interactions between agents and environments. It often assumes agents have no prior knowledge of a world, so they must learn to navigate environments by optimizing a reward function. Within an environment, an agent can take certain actions and receive feedback, in the form of positive or negative rewards, with respect to their decision. As such, an agent's feedback loop is somewhat akin to the idea of \"trial and error\", or the manner in which a child might learn to distinguish between \"good\" and \"bad\" actions.\n",
        "\n",
        "In practical terms, our RL agent will interact with the environment by taking an action at each timestep, receiving a corresponding reward, and updating its state according to what it has \"learned\".  \n",
        "\n",
        "![alt text](https://www.kdnuggets.com/images/reinforcement-learning-fig1-700.jpg)\n",
        "\n",
        "While the ultimate goal of reinforcement learning is to teach agents to act in the real, physical world, games provide a convenient proving ground for developing RL algorithms and agents. Games have some properties that make them particularly well suited for RL: \n",
        "\n",
        "1.   In many cases, games have perfectly describable environments. For example, all rules of chess can be formally written and programmed into a chess game simulator;\n",
        "2.   Games are massively parallelizable. Since they do not require running in the real world, simultaneous environments can be run on large data clusters; \n",
        "3.   Simpler scenarios in games enable fast prototyping. This speeds up the development of algorithms that could eventually run in the real-world; and\n",
        "4.   ... Games are fun! \n",
        "\n",
        "In previous labs, we have explored both supervised (with LSTMs, CNNs) and unsupervised / semi-supervised (with VAEs) learning tasks. Reinforcement learning is fundamentally different, in that we are training a deep learning algorithm to govern the actions of our RL agent, that is trying, within its environment, to find the optimal way to achieve a goal. The goal of training an RL agent is to determine the best next step to take to earn the greatest final payoff or return. In this lab, we focus on building a reinforcement learning algorithm to master two different environments with varying complexity. \n",
        "\n",
        "1.   **Cartpole**:   Balance a pole, protruding from a cart, in an upright position by only moving the base left or right. Environment with a low-dimensional observation space.\n",
        "2.   [**Pong**](https://en.wikipedia.org/wiki/Pong): Beat your competitors (whether other AI or humans!) at the game of Pong. Environment with a high-dimensional observation space -- learning directly from raw pixels.\n",
        "\n",
        "Let's get started! First we'll import TensorFlow, the course package, and some dependencies.\n"
      ]
    },
    {
      "cell_type": "code",
      "metadata": {
        "id": "EvdePP-VyVWp",
        "colab_type": "code",
        "colab": {
          "base_uri": "https://localhost:8080/",
          "height": 357
        },
        "outputId": "6c1d10b5-8b75-4c2c-870f-3e2ee29904c0"
      },
      "source": [
        "!apt-get install -y xvfb python-opengl x11-utils > /dev/null 2>&1\n",
        "!pip install gym pyvirtualdisplay scikit-video > /dev/null 2>&1\n",
        "\n",
        "%tensorflow_version 2.x\n",
        "import tensorflow as tf\n",
        "\n",
        "import numpy as np\n",
        "import base64, io, time, gym\n",
        "import IPython, functools\n",
        "import matplotlib.pyplot as plt\n",
        "from tqdm import tqdm\n",
        "\n",
        "!pip install mitdeeplearning\n",
        "import mitdeeplearning as mdl"
      ],
      "execution_count": 1,
      "outputs": [
        {
          "output_type": "stream",
          "text": [
            "TensorFlow 2.x selected.\n",
            "Collecting mitdeeplearning\n",
            "\u001b[?25l  Downloading https://files.pythonhosted.org/packages/8b/3b/b9174b68dc10832356d02a2d83a64b43a24f1762c172754407d22fc8f960/mitdeeplearning-0.1.2.tar.gz (2.1MB)\n",
            "\u001b[K     |████████████████████████████████| 2.1MB 49.8MB/s \n",
            "\u001b[?25hRequirement already satisfied: numpy in /tensorflow-2.1.0/python3.6 (from mitdeeplearning) (1.18.1)\n",
            "Requirement already satisfied: regex in /usr/local/lib/python3.6/dist-packages (from mitdeeplearning) (2019.12.20)\n",
            "Requirement already satisfied: tqdm in /usr/local/lib/python3.6/dist-packages (from mitdeeplearning) (4.28.1)\n",
            "Requirement already satisfied: gym in /usr/local/lib/python3.6/dist-packages (from mitdeeplearning) (0.15.6)\n",
            "Requirement already satisfied: six in /tensorflow-2.1.0/python3.6 (from gym->mitdeeplearning) (1.14.0)\n",
            "Requirement already satisfied: scipy in /tensorflow-2.1.0/python3.6 (from gym->mitdeeplearning) (1.4.1)\n",
            "Requirement already satisfied: cloudpickle~=1.2.0 in /usr/local/lib/python3.6/dist-packages (from gym->mitdeeplearning) (1.2.2)\n",
            "Requirement already satisfied: pyglet<=1.5.0,>=1.4.0 in /usr/local/lib/python3.6/dist-packages (from gym->mitdeeplearning) (1.4.10)\n",
            "Requirement already satisfied: future in /usr/local/lib/python3.6/dist-packages (from pyglet<=1.5.0,>=1.4.0->gym->mitdeeplearning) (0.16.0)\n",
            "Building wheels for collected packages: mitdeeplearning\n",
            "  Building wheel for mitdeeplearning (setup.py) ... \u001b[?25l\u001b[?25hdone\n",
            "  Created wheel for mitdeeplearning: filename=mitdeeplearning-0.1.2-cp36-none-any.whl size=2114586 sha256=a11c15334dabbaf396b70cd038e4f51c71de747f17748b70905e42a8d205a95f\n",
            "  Stored in directory: /root/.cache/pip/wheels/27/e1/73/5f01c787621d8a3c857f59876c79e304b9b64db9ff5bd61b74\n",
            "Successfully built mitdeeplearning\n",
            "Installing collected packages: mitdeeplearning\n",
            "Successfully installed mitdeeplearning-0.1.2\n"
          ],
          "name": "stdout"
        }
      ]
    },
    {
      "cell_type": "markdown",
      "metadata": {
        "id": "zmrHSiXKTXTY",
        "colab_type": "text"
      },
      "source": [
        "Before we dive in, let's take a step back and outline our approach, which is generally applicable to reinforcement learning problems in general:\n",
        "\n",
        "1. **Initialize our environment and our agent**: here we will describe the different observations and actions the agent can make in the environemnt.\n",
        "2. **Define our agent's memory**: this will enable the agent to remember its past actions, observations, and rewards.\n",
        "3. **Define a reward function**: describes the reward associated with an action or sequence of actions.\n",
        "4. **Define the learning algorithm**: this will be used to reinforce the agent's good behaviors and discourage bad behaviors.\n"
      ]
    },
    {
      "cell_type": "markdown",
      "metadata": {
        "id": "UT7YL8KBJIIc",
        "colab_type": "text"
      },
      "source": [
        "# Part 1: Cartpole\n",
        "\n",
        "## 3.1 Define the Cartpole environment and agent\n",
        "\n",
        "### Environment \n",
        "\n",
        "In order to model the environment for both the Cartpole and Pong tasks, we'll be using a toolkit developed by OpenAI called [OpenAI Gym](https://gym.openai.com/). It provides several pre-defined environments for training and testing reinforcement learning agents, including those for classic physics control tasks, Atari video games, and robotic simulations. To access the Cartpole environment, we can use `env = gym.make(\"CartPole-v0\")`, which we gained access to when we imported the `gym` package. We can instantiate different [environments](https://gym.openai.com/envs/#classic_control) by passing the enivronment name to the `make` function.\n",
        "\n",
        "One issue we might experience when developing RL algorithms is that many aspects of the learning process are inherently random: initializing game states, changes in the environment, and the agent's actions. As such, it can be helpful to set a initial \"seed\" for the environment to ensure some level of reproducibility. Much like you might use `numpy.random.seed`, we can call the comparable function in gym, `seed`, with our defined environment to ensure the environment's random variables are initialized the same each time."
      ]
    },
    {
      "cell_type": "code",
      "metadata": {
        "id": "quv9SC0iIYFm",
        "colab_type": "code",
        "colab": {
          "base_uri": "https://localhost:8080/",
          "height": 68
        },
        "outputId": "ff449f21-3004-4233-e571-12dce4a114ed"
      },
      "source": [
        "### Instantiate the Cartpole environment ###\n",
        "\n",
        "env = gym.make(\"CartPole-v0\")\n",
        "env.seed(1)"
      ],
      "execution_count": 2,
      "outputs": [
        {
          "output_type": "stream",
          "text": [
            "/usr/local/lib/python3.6/dist-packages/gym/logger.py:30: UserWarning: \u001b[33mWARN: Box bound precision lowered by casting to float32\u001b[0m\n",
            "  warnings.warn(colorize('%s: %s'%('WARN', msg % args), 'yellow'))\n"
          ],
          "name": "stderr"
        },
        {
          "output_type": "execute_result",
          "data": {
            "text/plain": [
              "[1]"
            ]
          },
          "metadata": {
            "tags": []
          },
          "execution_count": 2
        }
      ]
    },
    {
      "cell_type": "markdown",
      "metadata": {
        "id": "mhEITUcKK455",
        "colab_type": "text"
      },
      "source": [
        "In Cartpole, a pole is attached by an un-actuated joint to a cart, which moves along a frictionless track. The pole starts upright, and the goal is to prevent it from falling over. The system is controlled by applying a force of +1 or -1 to the cart. A reward of +1 is provided for every timestep that the pole remains upright. The episode ends when the pole is more than 15 degrees from vertical, or the cart moves more than 2.4 units from the center of the track. A visual summary of the cartpole environment is depicted below:\n",
        "\n",
        "<img width=\"400px\" src=\"https://danielpiedrahita.files.wordpress.com/2017/02/cart-pole.png\"></img>\n",
        "\n",
        "Given this setup for the environment and the objective of the game, we can think about: 1) what observations help define the environment's state; 2) what actions the agent can take. \n",
        "\n",
        "First, let's consider the observation space. In this Cartpole environment our observations are:\n",
        "\n",
        "1. Cart position\n",
        "2. Cart velocity\n",
        "3. Pole angle\n",
        "4. Pole rotation rate\n",
        "\n",
        "We can confirm the size of the space by querying the environment's observation space:\n"
      ]
    },
    {
      "cell_type": "code",
      "metadata": {
        "id": "UVJaEcbdIX82",
        "colab_type": "code",
        "colab": {
          "base_uri": "https://localhost:8080/",
          "height": 34
        },
        "outputId": "4523d7e8-b93b-44ff-f5ea-0290d6f915b3"
      },
      "source": [
        "n_observations = env.observation_space\n",
        "print(\"Environment has observation space =\", n_observations)"
      ],
      "execution_count": 3,
      "outputs": [
        {
          "output_type": "stream",
          "text": [
            "Environment has observation space = Box(4,)\n"
          ],
          "name": "stdout"
        }
      ]
    },
    {
      "cell_type": "markdown",
      "metadata": {
        "id": "ZibGgjrALgPM",
        "colab_type": "text"
      },
      "source": [
        "Second, we consider the action space. At every time step, the agent can move either right or left. Again we can confirm the size of the action space by querying the environment:"
      ]
    },
    {
      "cell_type": "code",
      "metadata": {
        "id": "qc9SIPxBIXrm",
        "colab_type": "code",
        "colab": {
          "base_uri": "https://localhost:8080/",
          "height": 34
        },
        "outputId": "e148b99d-6a1d-4929-a433-cb5989b9adb5"
      },
      "source": [
        "n_actions = env.action_space.n\n",
        "print(\"Number of possible actions that the agent can choose from =\", n_actions)"
      ],
      "execution_count": 4,
      "outputs": [
        {
          "output_type": "stream",
          "text": [
            "Number of possible actions that the agent can choose from = 2\n"
          ],
          "name": "stdout"
        }
      ]
    },
    {
      "cell_type": "markdown",
      "metadata": {
        "id": "pPfHME8aRKkb",
        "colab_type": "text"
      },
      "source": [
        "### Cartpole agent\n",
        "\n",
        "Now that we have instantiated the environment and understood the dimensionality of the observation and action spaces, we are ready to define our agent. In deep reinforcement learning, a deep neural network defines the agent. This network will take as input an observation of the environment and output the probability of taking each of the possible actions. Since Cartpole is defined by a low-dimensional observation space, a simple feed-forward neural network should work well for our agent. We will define this using the `Sequential` API.\n"
      ]
    },
    {
      "cell_type": "code",
      "metadata": {
        "id": "W-o_XK4oQ4eu",
        "colab_type": "code",
        "colab": {}
      },
      "source": [
        "### Define the Cartpole agent ###\n",
        "\n",
        "# Defines a feed-forward neural network\n",
        "def create_cartpole_model():\n",
        "  model = tf.keras.models.Sequential([\n",
        "      # First Dense layer\n",
        "      tf.keras.layers.Dense(units=32, activation='relu'),\n",
        "\n",
        "      # TODO: Define the last Dense layer, which will provide the network's output.\n",
        "      # Think about the space the agent needs to act in!\n",
        "      tf.keras.layers.Dense(units= n_actions, activation=None)\n",
        "  ])\n",
        "  return model\n",
        "\n",
        "cartpole_model = create_cartpole_model()"
      ],
      "execution_count": 0,
      "outputs": []
    },
    {
      "cell_type": "markdown",
      "metadata": {
        "id": "d5D5NSIYS2IW",
        "colab_type": "text"
      },
      "source": [
        "Now that we have defined the core network architecture, we will define an *action function* that executes a forward pass through the network, given a set of observations, and samples from the output. This sampling from the output probabilities will be used to select the next action for the agent. \n",
        "\n",
        "**Critically, this action function is totally general -- we will use this function for both Cartpole and Pong, and it is applicable to other RL tasks, as well!**"
      ]
    },
    {
      "cell_type": "code",
      "metadata": {
        "id": "E_vVZRr8Q4R_",
        "colab_type": "code",
        "colab": {}
      },
      "source": [
        "### Define the agent's action function ###\n",
        "\n",
        "# Function that takes observations as input, executes a forward pass through model, \n",
        "#   and outputs a sampled action.\n",
        "# Arguments:\n",
        "#   model: the network that defines our agent\n",
        "#   observation: observation which is fed as input to the model\n",
        "# Returns:\n",
        "#   action: choice of agent action\n",
        "def choose_action(model, observation):\n",
        "  # add batch dimension to the observation\n",
        "  observation = np.expand_dims(observation, axis=0)\n",
        "\n",
        "  '''TODO: feed the observations through the model to predict the log probabilities of each possible action.'''\n",
        "  logits = model.predict(observation)\n",
        "  \n",
        "  # pass the log probabilities through a softmax to compute true probabilities\n",
        "  prob_weights = tf.nn.softmax(logits).numpy()\n",
        "  \n",
        "  '''TODO: randomly sample from the prob_weights to pick an action.\n",
        "  Hint: carefully consider the dimensionality of the input probabilities (vector) and the output action (scalar)'''\n",
        "  action = np.random.choice(n_actions, size=1, p=prob_weights.flatten())[0]\n",
        "\n",
        "  return action"
      ],
      "execution_count": 0,
      "outputs": []
    },
    {
      "cell_type": "markdown",
      "metadata": {
        "id": "_tR9uAWcTnkr",
        "colab_type": "text"
      },
      "source": [
        "## 3.2 Define the agent's memory\n",
        "\n",
        "Now that we have instantiated the environment and defined the agent network architecture and action function, we are ready to move on to the next step in our RL workflow:\n",
        "1. **Initialize our environment and our agent**: here we will describe the different observations and actions the agent can make in the environemnt.\n",
        "2. **Define our agent's memory**: this will enable the agent to remember its past actions, observations, and rewards.\n",
        "3. **Define the learning algorithm**: this will be used to reinforce the agent's good behaviors and discourage bad behaviors.\n",
        "\n",
        "In reinforcement learning, training occurs alongside the agent's acting in the environment; an *episode* refers to a sequence of actions that ends in some terminal state, such as the pole falling down or the cart crashing. The agent will need to remember all of its observations and actions, such that once an episode ends, it can learn to \"reinforce\" the good actions and punish the undesirable actions via training. Our first step is to define a simple memory buffer that contains the agent's observations, actions, and received rewards from a given episode. \n",
        "\n",
        "**Once again, note the modularity of this memory buffer -- it can and will be applied to other RL tasks as well!**"
      ]
    },
    {
      "cell_type": "code",
      "metadata": {
        "id": "8MM6JwXVQ4JG",
        "colab_type": "code",
        "colab": {}
      },
      "source": [
        "### Agent Memory ###\n",
        "\n",
        "class Memory:\n",
        "  def __init__(self): \n",
        "      self.clear()\n",
        "\n",
        "  # Resets/restarts the memory buffer\n",
        "  def clear(self): \n",
        "      self.observations = []\n",
        "      self.actions = []\n",
        "      self.rewards = []\n",
        "\n",
        "  # Add observations, actions, rewards to memory\n",
        "  def add_to_memory(self, new_observation, new_action, new_reward): \n",
        "      self.observations.append(new_observation)\n",
        "      '''TODO: update the list of actions with new action'''\n",
        "      # TODO: your update code here\n",
        "      self.actions.append(new_action)\n",
        "      '''TODO: update the list of rewards with new reward'''\n",
        "      # TODO: your update code here\n",
        "      self.rewards.append(new_reward)\n",
        "memory = Memory()"
      ],
      "execution_count": 0,
      "outputs": []
    },
    {
      "cell_type": "markdown",
      "metadata": {
        "id": "D4YhtPaUVj5m",
        "colab_type": "text"
      },
      "source": [
        "## 3.3 Reward function\n",
        "\n",
        "We're almost ready to begin the learning algorithm for our agent! The next step is to compute the rewards of our agent as it acts in the environment. Since we (and the agent) is uncertain about if and when the game or task will end (i.e., when the pole will fall), it is useful to emphasize getting rewards **now** rather than later in the future -- this is the idea of discounting. This is a similar concept to discounting money in the case of interest. ecall from lecture, we use reward discount to give more preference at getting rewards now rather than later in the future. The idea of discounting rewards is similar to discounting money in the case of interest.\n",
        "\n",
        "To compute the expected cumulative reward, known as the **return**, at a given timestep in a learning episode, we sum the discounted rewards expected at that time step $t$, within a learning episode, and projecting into the future. We define the return (cumulative reward) at a time step $t$, $R_{t}$ as:\n",
        "\n",
        ">$R_{t}=\\sum_{k=0}^\\infty\\gamma^kr_{t+k}$\n",
        "\n",
        "where  $0 < \\gamma < 1$ is the discount factor and $r_{t}$ is the reward at time step $t$, and the index $k$ increments projection into the future within a single learning episode. Intuitively, you can think of this function as depreciating any rewards received at later time steps, which will force the agent prioritize getting rewards now. Since we can't extend episodes to infinity, in practice the computation will be limited to the number of timesteps in an episode -- after that the reward is assumed to be zero.\n",
        "\n",
        "Take note of the form of this sum -- we'll have to be clever about how we implement this function. Specifically, we'll need to initialize an array of zeros, with length of the number of time steps, and fill it with the real discounted reward values as we loop through the rewards from the episode, which will have been saved in the agents memory. What we ultimately care about is which actions are better relative to other actions taken in that episode -- so, we'll normalize our computed rewards, using the mean and standard deviation of the rewards across the learning episode.\n"
      ]
    },
    {
      "cell_type": "code",
      "metadata": {
        "id": "5_Q2OFYtQ32X",
        "colab_type": "code",
        "colab": {}
      },
      "source": [
        "### Reward function ###\n",
        "\n",
        "# Helper function that normalizes an np.array x\n",
        "def normalize(x):\n",
        "  x -= np.mean(x)\n",
        "  x /= np.std(x)\n",
        "  return x.astype(np.float32)\n",
        "\n",
        "# Compute normalized, discounted, cumulative rewards (i.e., return)\n",
        "# Arguments:\n",
        "#   rewards: reward at timesteps in episode\n",
        "#   gamma: discounting factor\n",
        "# Returns:\n",
        "#   normalized discounted reward\n",
        "def discount_rewards(rewards, gamma=0.95): \n",
        "  discounted_rewards = np.zeros_like(rewards)\n",
        "  R = 0\n",
        "  for t in reversed(range(0, len(rewards))):\n",
        "      # update the total discounted reward\n",
        "      R = R * gamma + rewards[t]\n",
        "      discounted_rewards[t] = R\n",
        "      \n",
        "  return normalize(discounted_rewards)"
      ],
      "execution_count": 0,
      "outputs": []
    },
    {
      "cell_type": "markdown",
      "metadata": {
        "id": "QzbY-mjGYcmt",
        "colab_type": "text"
      },
      "source": [
        "## 3.4 Learning algorithm\n",
        "\n",
        "Now we can start to define the learing algorithm which will be used to reinforce good behaviors of the agent and discourage bad behaviours. In this lab, we will focus on *policy gradient* methods which aim to **maximize** the likelihood of actions that result in large rewards. Equivalently, this means that we want to **minimize** the negative likelihood of these same actions. We achieve this by simply **scaling** the probabilities by their associated rewards -- effectively amplifying the likelihood of actions that resujlt in large rewards.\n",
        "\n",
        "Since the log function is monotonically increasing, this means that minimizing **negative likelihood** is equivalent to minimizing **negative log-likelihood**.  Recall that we can easily compute the negative log-likelihood of a discrete action by evaluting its [softmax cross entropy](https://www.tensorflow.org/api_docs/python/tf/nn/sparse_softmax_cross_entropy_with_logits). Like in supervised learning, we can use stochastic gradient descent methods to achieve the desired minimization. \n",
        "\n",
        "Let's begin by defining the loss function."
      ]
    },
    {
      "cell_type": "code",
      "metadata": {
        "id": "fsgZ3IDCY_Zn",
        "colab_type": "code",
        "colab": {}
      },
      "source": [
        "### Loss function ###\n",
        "\n",
        "# Arguments:\n",
        "#   logits: network's predictions for actions to take\n",
        "#   actions: the actions the agent took in an episode\n",
        "#   rewards: the rewards the agent received in an episode\n",
        "# Returns:\n",
        "#   loss\n",
        "def compute_loss(logits, actions, rewards): \n",
        "  '''TODO: complete the function call to compute the negative log probabilities'''\n",
        "  neg_logprob = tf.nn.sparse_softmax_cross_entropy_with_logits(logits= logits, labels=actions)\n",
        "  \n",
        "  '''TODO: scale the negative log probability by the rewards'''\n",
        "  loss = tf.reduce_mean(neg_logprob * rewards)\n",
        "  return loss"
      ],
      "execution_count": 0,
      "outputs": []
    },
    {
      "cell_type": "markdown",
      "metadata": {
        "id": "Rr5vQ9fqbPpp",
        "colab_type": "text"
      },
      "source": [
        "Now let's use the loss function to define a training step of our learning algorithm:"
      ]
    },
    {
      "cell_type": "code",
      "metadata": {
        "id": "_50ada7nbZ7L",
        "colab_type": "code",
        "colab": {}
      },
      "source": [
        "### Training step (forward and backpropagation) ###\n",
        "\n",
        "def train_step(model, optimizer, observations, actions, discounted_rewards):\n",
        "  with tf.GradientTape() as tape:\n",
        "      # Forward propagate through the agent network\n",
        "      logits = model(observations)\n",
        "\n",
        "      '''TODO: call the compute_loss function to compute the loss'''\n",
        "      loss = compute_loss(logits, actions, discounted_rewards)\n",
        "\n",
        "  '''TODO: run backpropagation to minimize the loss using the tape.gradient method.\n",
        "      Use `model.trainable_variables`'''\n",
        "  grads = tape.gradient(loss, model.trainable_variables)\n",
        "  optimizer.apply_gradients(zip(grads, model.trainable_variables))\n"
      ],
      "execution_count": 0,
      "outputs": []
    },
    {
      "cell_type": "markdown",
      "metadata": {
        "id": "XsjKXh6BcgjR",
        "colab_type": "text"
      },
      "source": [
        "## 3.5 Run cartpole!\n",
        "\n",
        "Having had no prior knowledge of the environment, the agent will begin to learn how to balance the pole on the cart based only on the feedback received from the environment! Having defined how our agent can move, how it takes in new observations, and how it updates its state, we'll see how it gradually learns a policy of actions to optimize balancing the pole as long as possible. To do this, we'll track how the rewards evolve as a function of training -- how should the rewards change as training progresses?"
      ]
    },
    {
      "cell_type": "code",
      "metadata": {
        "id": "XmOzc2rrcn8Q",
        "colab_type": "code",
        "colab": {
          "base_uri": "https://localhost:8080/",
          "height": 541
        },
        "outputId": "a76f44a4-f3a5-4f55-beaa-439c36fccc4e"
      },
      "source": [
        "### Cartpole training! ###\n",
        "\n",
        "# Learning rate and optimizer\n",
        "learning_rate = 1e-3\n",
        "optimizer = tf.keras.optimizers.Adam(learning_rate)\n",
        "\n",
        "# instantiate cartpole agent\n",
        "cartpole_model = create_cartpole_model()\n",
        "\n",
        "# to track our progress\n",
        "smoothed_reward = mdl.util.LossHistory(smoothing_factor=0.9)\n",
        "plotter = mdl.util.PeriodicPlotter(sec=2, xlabel='Iterations', ylabel='Rewards')\n",
        "\n",
        "if hasattr(tqdm, '_instances'): tqdm._instances.clear() # clear if it exists\n",
        "for i_episode in range(500):\n",
        "\n",
        "  plotter.plot(smoothed_reward.get())\n",
        "\n",
        "  # Restart the environment\n",
        "  observation = env.reset()\n",
        "  memory.clear()\n",
        "\n",
        "  while True:\n",
        "      # using our observation, choose an action and take it in the environment\n",
        "      action = choose_action(cartpole_model, observation)\n",
        "      next_observation, reward, done, info = env.step(action)\n",
        "      # add to memory\n",
        "      memory.add_to_memory(observation, action, reward)\n",
        "      \n",
        "      # is the episode over? did you crash or do so well that you're done?\n",
        "      if done:\n",
        "          # determine total reward and keep a record of this\n",
        "          total_reward = sum(memory.rewards)\n",
        "          smoothed_reward.append(total_reward)\n",
        "          \n",
        "          # initiate training - remember we don't know anything about how the \n",
        "          #   agent is doing until it has crashed!\n",
        "          train_step(cartpole_model, optimizer, \n",
        "                     observations=np.vstack(memory.observations),\n",
        "                     actions=np.array(memory.actions),\n",
        "                     discounted_rewards = discount_rewards(memory.rewards))\n",
        "          \n",
        "          # reset the memory\n",
        "          memory.clear()\n",
        "          break\n",
        "      # update our observatons\n",
        "      observation = next_observation"
      ],
      "execution_count": 25,
      "outputs": [
        {
          "output_type": "display_data",
          "data": {
            "image/png": "[encoded data removed]",
            "text/plain": [
              "<Figure size 432x288 with 1 Axes>"
            ]
          },
          "metadata": {
            "tags": []
          }
        },
        {
          "output_type": "display_data",
          "data": {
            "image/png": "[encoded data removed]",
            "text/plain": [
              "<Figure size 432x288 with 1 Axes>"
            ]
          },
          "metadata": {
            "tags": []
          }
        }
      ]
    },
    {
      "cell_type": "markdown",
      "metadata": {
        "id": "mkcUtGF1VE-K",
        "colab_type": "text"
      },
      "source": [
        "To get a sense of how our agent did, we can save a video of the trained model working on balancing the pole. Realize that this is a brand new environment that the agent has not seen before!\n",
        "\n",
        "Let's display the saved video to watch how our agent did!\n"
      ]
    },
    {
      "cell_type": "code",
      "metadata": {
        "id": "PAYBkv6Zbk0J",
        "colab_type": "code",
        "colab": {
          "base_uri": "https://localhost:8080/",
          "height": 472
        },
        "outputId": "a699e412-ca25-4f01-ca91-ea266bf6a330"
      },
      "source": [
        "saved_cartpole = mdl.lab3.save_video_of_model(cartpole_model, \"CartPole-v0\")\n",
        "mdl.lab3.play_video(saved_cartpole)"
      ],
      "execution_count": 26,
      "outputs": [
        {
          "output_type": "stream",
          "text": [
            "/usr/local/lib/python3.6/dist-packages/gym/logger.py:30: UserWarning: \u001b[33mWARN: Box bound precision lowered by casting to float32\u001b[0m\n",
            "  warnings.warn(colorize('%s: %s'%('WARN', msg % args), 'yellow'))\n"
          ],
          "name": "stderr"
        },
        {
          "output_type": "stream",
          "text": [
            "Successfully saved 200 frames into CartPole-v0.mp4!\n"
          ],
          "name": "stdout"
        },
        {
          "output_type": "execute_result",
          "data": {
            "text/html": [
              "\n",
              "        <video controls>\n",
              "            <source src=\"data:video/mp4;base64,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\" type=\"video/mp4\" />\n",
              "        </video>"
            ],
            "text/plain": [
              "<IPython.core.display.HTML object>"
            ]
          },
          "metadata": {
            "tags": []
          },
          "execution_count": 26
        }
      ]
    },
    {
      "cell_type": "markdown",
      "metadata": {
        "id": "CSbVNDpaVb3_",
        "colab_type": "text"
      },
      "source": [
        "How does the agent perform? Could you train it for shorter amounts of time and still perform well? Do you think that training longer would help even more? "
      ]
    },
    {
      "cell_type": "markdown",
      "metadata": {
        "id": "Eu6Mqxc720ST",
        "colab_type": "text"
      },
      "source": [
        "#Part 2: Pong\n",
        "\n",
        "In Cartpole, we dealt with an environment that was static -- in other words, it didn't change over time. What happens if our environment is dynamic and unpredictable? Well that's exactly the case in [Pong](https://en.wikipedia.org/wiki/Pong), since part of the environment is the opposing player. We don't know how our opponent will act or react to our actions, so the complexity of our problem increases. It also becomes much more interesting, since we can compete to beat our opponent. RL provides a powerful framework for training AI systems with the ability to handle and interact with dynamic, unpredictable environments. In this part of the lab, we'll use the tools and workflow we explored in Part 1 to build an RL agent capable of playing the game of Pong.\n"
      ]
    },
    {
      "cell_type": "markdown",
      "metadata": {
        "id": "srZ4YE29isuA",
        "colab_type": "text"
      },
      "source": [
        "## 3.6 Define and inspect the Pong environment\n",
        "\n",
        "As with Cartpole, we'll instantiate the Pong environment in the OpenAI gym, using a seed of 1."
      ]
    },
    {
      "cell_type": "code",
      "metadata": {
        "id": "lbYHLr66i15n",
        "colab_type": "code",
        "colab": {}
      },
      "source": [
        "env = gym.make(\"Pong-v0\", frameskip=5)\n",
        "env.seed(1); # for reproducibility"
      ],
      "execution_count": 0,
      "outputs": []
    },
    {
      "cell_type": "markdown",
      "metadata": {
        "id": "52uZ2Xhyi-MW",
        "colab_type": "text"
      },
      "source": [
        "Let's next consider the observation space for the Pong environment. Instead of four physical descriptors of the cart-pole setup, in the case of Pong our observations are the individual video frames (i.e., images) that depict the state of the board. Thus, the observations are 210x160 RGB images (arrays of shape (210,160,3)).\n",
        "\n",
        "We can again confirm the size of the observation space by query:"
      ]
    },
    {
      "cell_type": "code",
      "metadata": {
        "id": "0yX4GWvxjnHS",
        "colab_type": "code",
        "colab": {
          "base_uri": "https://localhost:8080/",
          "height": 34
        },
        "outputId": "b81b4a60-a074-4bae-c2c2-f5dc083b04a9"
      },
      "source": [
        "print(\"Environment has observation space =\", env.observation_space)"
      ],
      "execution_count": 28,
      "outputs": [
        {
          "output_type": "stream",
          "text": [
            "Environment has observation space = Box(210, 160, 3)\n"
          ],
          "name": "stdout"
        }
      ]
    },
    {
      "cell_type": "markdown",
      "metadata": {
        "id": "uuEC2TdSjx9D",
        "colab_type": "text"
      },
      "source": [
        "In Pong, at every time step, the agent (which controls the paddle) has six actions to choose from: no-op (no operation), move right, move left, fire, fire right, and fire left. Let's confirm the size of the action space by querying the environment:"
      ]
    },
    {
      "cell_type": "code",
      "metadata": {
        "id": "Iuy9oPc1kag3",
        "colab_type": "code",
        "colab": {
          "base_uri": "https://localhost:8080/",
          "height": 34
        },
        "outputId": "5f49932b-9e66-4a17-e997-912d016ef23b"
      },
      "source": [
        "n_actions = env.action_space.n\n",
        "print(\"Number of possible actions that the agent can choose from =\", n_actions)"
      ],
      "execution_count": 29,
      "outputs": [
        {
          "output_type": "stream",
          "text": [
            "Number of possible actions that the agent can choose from = 6\n"
          ],
          "name": "stdout"
        }
      ]
    },
    {
      "cell_type": "markdown",
      "metadata": {
        "id": "9-fghDRigUE5",
        "colab_type": "text"
      },
      "source": [
        "## 3.7 Define the Pong agent\n",
        "\n",
        "As before, we'll use a neural network to define our agent. What network architecture do you think would be especially well suited to this game? Since our observations are now in the form of images, we'll add convolutional layers to the network to increase the learning capacity of our network."
      ]
    },
    {
      "cell_type": "code",
      "metadata": {
        "id": "IJiqbFYpgYRH",
        "colab_type": "code",
        "colab": {}
      },
      "source": [
        "### Define the Pong agent ###\n",
        "\n",
        "# Functionally define layers for convenience\n",
        "# All convolutional layers will have ReLu activation\n",
        "Conv2D = functools.partial(tf.keras.layers.Conv2D, padding='same', activation='relu')\n",
        "Flatten = tf.keras.layers.Flatten\n",
        "Dense = tf.keras.layers.Dense\n",
        "\n",
        "# Defines a CNN for the Pong agent\n",
        "def create_pong_model():\n",
        "  model = tf.keras.models.Sequential([\n",
        "    # Convolutional layers\n",
        "    # First, 16 7x7 filters with 4x4 stride\n",
        "    Conv2D(filters=16, kernel_size=7, strides=4),\n",
        "\n",
        "    # TODO: define convolutional layers with 32 5x5 filters and 2x2 stride\n",
        "    Conv2D(filters=32, kernel_size=5, strides=2),\n",
        "\n",
        "    # TODO: define convolutional layers with 48 3x3 filters and 2x2 stride\n",
        "    Conv2D(filters=48, kernel_size=3, strides=2),\n",
        "\n",
        "    Flatten(),\n",
        "    \n",
        "    # Fully connected layer and output\n",
        "    Dense(units=64, activation='relu'),\n",
        "    # TODO: define the output dimension of the last Dense layer. \n",
        "    # Pay attention to the space the agent needs to act in\n",
        "    Dense(units=n_actions, activation=None)\n",
        "  \n",
        "  ])\n",
        "  return model\n",
        "\n",
        "pong_model = create_pong_model()"
      ],
      "execution_count": 0,
      "outputs": []
    },
    {
      "cell_type": "markdown",
      "metadata": {
        "id": "yaeZ067olFiJ",
        "colab_type": "text"
      },
      "source": [
        "Since we've already defined the action function, `choose_action(model, observation)`, we don't need to define it again. Instead, we'll be able to reuse it later on by passing in our new model we've just created, `pong_model`. This is awesome because our action function provides a modular and generalizable method for all sorts of RL agents!"
      ]
    },
    {
      "cell_type": "markdown",
      "metadata": {
        "id": "l0RvqOVkmc2r",
        "colab_type": "text"
      },
      "source": [
        "## 3.8 Pong-specific functions\n",
        "\n",
        "In Part 1 (Cartpole), we implemented some key functions and classes to build and train our RL agent -- `choose_action(model, observation)` and the `Memory` class, for example. However, in getting ready to apply these to a new game like Pong, we might need to make some slight modifications. \n",
        "\n",
        "Namely, we need to think about what happens when a game ends. In Pong, we know a game has ended if the reward is +1 (we won!) or -1 (we lost unfortunately). Otherwise, we expect the reward at a timestep to be zero -- the players (or agents) are just playing eachother. So, after a game ends, we will need to reset the reward to zero when a game ends. This will result in a modified reward function."
      ]
    },
    {
      "cell_type": "code",
      "metadata": {
        "id": "iEZG2o50luLu",
        "colab_type": "code",
        "colab": {}
      },
      "source": [
        "### Pong reward function ###\n",
        "\n",
        "# Compute normalized, discounted rewards for Pong (i.e., return)\n",
        "# Arguments:\n",
        "#   rewards: reward at timesteps in episode\n",
        "#   gamma: discounting factor. Note increase to 0.99 -- rate of depreciation will be slower.\n",
        "# Returns:\n",
        "#   normalized discounted reward\n",
        "def discount_rewards(rewards, gamma=0.99): \n",
        "  discounted_rewards = np.zeros_like(rewards)\n",
        "  R = 0\n",
        "  for t in reversed(range(0, len(rewards))):\n",
        "      # NEW: Reset the sum if the reward is not 0 (the game has ended!)\n",
        "      if rewards[t] != 0:\n",
        "        R = 0\n",
        "      # update the total discounted reward as before\n",
        "      R = R * gamma + rewards[t]\n",
        "      discounted_rewards[t] = R\n",
        "      \n",
        "  return normalize(discounted_rewards)"
      ],
      "execution_count": 0,
      "outputs": []
    },
    {
      "cell_type": "markdown",
      "metadata": {
        "id": "HopLpb4IoOqA",
        "colab_type": "text"
      },
      "source": [
        "Additionally, we have to consider the nature of the observations in the Pong environment, and how they will be fed into our network. Our observations in this case are images. Before we input an image into our network, we'll do a bit of pre-processing to crop and scale, clean up the background colors to a single color, and set the important game elements to a single color. Let's use this function to visualize what an observation might look like before and after pre-processing."
      ]
    },
    {
      "cell_type": "code",
      "metadata": {
        "id": "no5IIYtFm8pI",
        "colab_type": "code",
        "colab": {
          "base_uri": "https://localhost:8080/",
          "height": 227
        },
        "outputId": "30ebb8d0-3819-4ba6-b4f6-e723f556a805"
      },
      "source": [
        "observation = env.reset()\n",
        "for i in range(30):\n",
        "  observation, _,_,_ = env.step(0)\n",
        "observation_pp = mdl.lab3.preprocess_pong(observation)\n",
        "\n",
        "f = plt.figure(figsize=(10,3))\n",
        "ax = f.add_subplot(121)\n",
        "ax2 = f.add_subplot(122)\n",
        "ax.imshow(observation); ax.grid(False);\n",
        "ax2.imshow(np.squeeze(observation_pp)); ax2.grid(False); plt.title('Preprocessed Observation');"
      ],
      "execution_count": 33,
      "outputs": [
        {
          "output_type": "display_data",
          "data": {
            "image/png": "[encoded data removed]",
            "text/plain": [
              "<Figure size 720x216 with 2 Axes>"
            ]
          },
          "metadata": {
            "tags": []
          }
        }
      ]
    },
    {
      "cell_type": "markdown",
      "metadata": {
        "id": "bYwIWC-Cz8F2",
        "colab_type": "text"
      },
      "source": [
        "What do you notice? How might these changes be important for training our RL algorithm?"
      ]
    },
    {
      "cell_type": "markdown",
      "metadata": {
        "id": "mRqcaDQ1pm3x",
        "colab_type": "text"
      },
      "source": [
        "## 3.9 Training Pong\n",
        "\n",
        "We're now all set up to start training our RL algorithm and agent for the game of Pong! We've already defined our loss function with `compute_loss`, which employs policy gradient learning, as well as our backpropagation step with `train_step` which is beautiful! We will use these functions to execute training the Pong agent. Let's walk through the training block.\n",
        "\n",
        "In Pong, rather than feeding our network one image at a time, it can actually improve performance to input the difference between two consecutive observations, which really gives us information about the movement between frames -- how the game is changing. We'll first pre-process the raw observation, `x`, and then we'll compute the difference with the image frame we saw one timestep before. \n",
        "\n",
        "This observation change will be forward propagated through our Pong agent, the CNN network model, which will then predict the next action to take based on this observation. The raw reward will be computed, and the observation, action, and reward will be recorded into memory. This will continue until a training episode, i.e., a game, ends.\n",
        "\n",
        "Then, we will compute the discounted rewards, and use this information to execute a training step. Memory will be cleared, and we will do it all over again!\n",
        "\n",
        "Let's run the code block to train our Pong agent. Note that completing training will take quite a bit of time (estimated at least a couple of hours). We will again visualize the evolution of the total reward as a function of training to get a sense of how the agent is learning."
      ]
    },
    {
      "cell_type": "code",
      "metadata": {
        "id": "xCwyQQrPnkZG",
        "colab_type": "code",
        "colab": {
          "base_uri": "https://localhost:8080/",
          "height": 279
        },
        "outputId": "e9825316-9d92-461c-eae1-34fe138e53ea"
      },
      "source": [
        "### Training Pong ###\n",
        "\n",
        "# Hyperparameters\n",
        "learning_rate=1e-4\n",
        "MAX_ITERS = 10000 # increase the maximum number of episodes, since Pong is more complex!\n",
        "\n",
        "# Model and optimizer\n",
        "pong_model = create_pong_model()\n",
        "optimizer = tf.keras.optimizers.Adam(learning_rate)\n",
        "\n",
        "# plotting\n",
        "smoothed_reward = mdl.util.LossHistory(smoothing_factor=0.9)\n",
        "plotter = mdl.util.PeriodicPlotter(sec=5, xlabel='Iterations', ylabel='Rewards')\n",
        "memory = Memory()\n",
        "\n",
        "for i_episode in range(MAX_ITERS):\n",
        "\n",
        "  plotter.plot(smoothed_reward.get())\n",
        "\n",
        "  # Restart the environment\n",
        "  observation = env.reset()\n",
        "  previous_frame = mdl.lab3.preprocess_pong(observation)\n",
        "\n",
        "  while True:\n",
        "      # Pre-process image \n",
        "      current_frame = mdl.lab3.preprocess_pong(observation)\n",
        "      \n",
        "      '''TODO: determine the observation change\n",
        "      Hint: this is the difference between the past two frames'''\n",
        "      obs_change = current_frame - previous_frame # TODO\n",
        "      \n",
        "      '''TODO: choose an action for the pong model, using the frame difference, and evaluate'''\n",
        "      action = choose_action(pong_model, obs_change) # TODO\n",
        "      # Take the chosen action\n",
        "      next_observation, reward, done, info = env.step(action)\n",
        "\n",
        "      '''TODO: save the observed frame difference, the action that was taken, and the resulting reward!'''\n",
        "      memory.add_to_memory(obs_change, action, reward)\n",
        "      \n",
        "      # is the episode over? did you crash or do so well that you're done?\n",
        "      if done:\n",
        "          # determine total reward and keep a record of this\n",
        "          total_reward = sum(memory.rewards)\n",
        "          smoothed_reward.append( total_reward )\n",
        "\n",
        "          # begin training\n",
        "          train_step(pong_model, \n",
        "                     optimizer, \n",
        "                     observations = np.stack(memory.observations, 0), \n",
        "                     actions = np.array(memory.actions),\n",
        "                     discounted_rewards = discount_rewards(memory.rewards))\n",
        "          \n",
        "          memory.clear()\n",
        "          break\n",
        "\n",
        "      observation = next_observation\n",
        "      previous_frame = current_frame"
      ],
      "execution_count": 0,
      "outputs": [
        {
          "output_type": "display_data",
          "data": {
            "image/png": "[encoded data removed]",
            "text/plain": [
              "<Figure size 432x288 with 1 Axes>"
            ]
          },
          "metadata": {
            "tags": []
          }
        }
      ]
    },
    {
      "cell_type": "markdown",
      "metadata": {
        "id": "8LiEY5Y_ts-Z",
        "colab_type": "text"
      },
      "source": [
        "Finally we can put our trained agent to the test! It will play in a newly instantiated Pong environment against the \"computer\", a base AI system for Pong. Your agent plays as the green paddle. Let's watch the match instant replay!"
      ]
    },
    {
      "cell_type": "code",
      "metadata": {
        "id": "TvHXbkL0tR6M",
        "colab_type": "code",
        "colab": {
          "base_uri": "https://localhost:8080/",
          "height": 214
        },
        "outputId": "491a200c-c85e-4b93-9474-f09cd875a98c"
      },
      "source": [
        "saved_pong = mdl.lab3.save_video_of_model(\n",
        "    pong_model, \"Pong-v0\", obs_diff=True, \n",
        "    pp_fn=mdl.lab3.preprocess_pong)\n",
        "mdl.lab3.play_video(saved_pong)"
      ],
      "execution_count": 1,
      "outputs": [
        {
          "output_type": "error",
          "ename": "NameError",
          "evalue": "ignored",
          "traceback": [
            "\u001b[0;31m---------------------------------------------------------------------------\u001b[0m",
            "\u001b[0;31mNameError\u001b[0m                                 Traceback (most recent call last)",
            "\u001b[0;32m<ipython-input-1-00442644751a>\u001b[0m in \u001b[0;36m<module>\u001b[0;34m()\u001b[0m\n\u001b[0;32m----> 1\u001b[0;31m saved_pong = mdl.lab3.save_video_of_model(\n\u001b[0m\u001b[1;32m      2\u001b[0m     \u001b[0mpong_model\u001b[0m\u001b[0;34m,\u001b[0m \u001b[0;34m\"Pong-v0\"\u001b[0m\u001b[0;34m,\u001b[0m \u001b[0mobs_diff\u001b[0m\u001b[0;34m=\u001b[0m\u001b[0;32mTrue\u001b[0m\u001b[0;34m,\u001b[0m\u001b[0;34m\u001b[0m\u001b[0;34m\u001b[0m\u001b[0m\n\u001b[1;32m      3\u001b[0m     pp_fn=mdl.lab3.preprocess_pong)\n\u001b[1;32m      4\u001b[0m \u001b[0mmdl\u001b[0m\u001b[0;34m.\u001b[0m\u001b[0mlab3\u001b[0m\u001b[0;34m.\u001b[0m\u001b[0mplay_video\u001b[0m\u001b[0;34m(\u001b[0m\u001b[0msaved_pong\u001b[0m\u001b[0;34m)\u001b[0m\u001b[0;34m\u001b[0m\u001b[0;34m\u001b[0m\u001b[0m\n",
            "\u001b[0;31mNameError\u001b[0m: name 'mdl' is not defined"
          ]
        }
      ]
    },
    {
      "cell_type": "markdown",
      "metadata": {
        "id": "TIlwIgBP3Js6",
        "colab_type": "text"
      },
      "source": [
        "## 3.10 Conclusion\n",
        "\n",
        "That's it! Congratulations on training two RL agents and putting them to the test! We encourage you to consider the following:\n",
        "\n",
        "*   How does the agent perform?\n",
        "*   Could you train it for shorter amounts of time  and still perform well?\n",
        "*   Do you think that training longer would help even more? \n",
        "* How does the complexity of Pong relative to Cartpole alter the rate at which the agent learns and its performance? \n",
        "* What are some things you could change about the agent or the learning process to potentially improve performance?\n",
        "\n",
        "If you want to go further, try to optimize your model to achieve the best performance! **[Email us](mailto:introtodeeplearning-staff@mit.edu) a copy of your notebook with the Pong training executed AND a saved video of your Pong agent competing! We'll give out prizes to the best performers!**"
      ]
    }
  ]
}